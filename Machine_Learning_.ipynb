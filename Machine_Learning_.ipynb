{
  "nbformat": 4,
  "nbformat_minor": 0,
  "metadata": {
    "colab": {
      "provenance": []
    },
    "kernelspec": {
      "name": "python3",
      "display_name": "Python 3"
    },
    "language_info": {
      "name": "python"
    }
  },
  "cells": [
    {
      "cell_type": "code",
      "source": [
        "import pandas as pd\n",
        "import numpy as np\n",
        "import matplotlib.pyplot as plt\n",
        "from sklearn.model_selection import train_test_split\n",
        "from sklearn.ensemble import RandomForestRegressor\n",
        "from sklearn.metrics import mean_squared_error"
      ],
      "metadata": {
        "id": "59d7CVxgZixf"
      },
      "execution_count": null,
      "outputs": []
    },
    {
      "cell_type": "code",
      "execution_count": null,
      "metadata": {
        "id": "sEDss5fkZe4f"
      },
      "outputs": [],
      "source": [
        "url = 'https://www.nodc.noaa.gov/archive/arc0121/0163033/1.1/data/0-data/Coastal-Water-Quality-Data.csv'\n",
        "df = pd.read_csv(url)"
      ]
    },
    {
      "cell_type": "code",
      "source": [
        "print(df.head())\n",
        "print(df.info())\n",
        "print(df.describe())"
      ],
      "metadata": {
        "id": "N8gjqaCzZiMH"
      },
      "execution_count": null,
      "outputs": []
    },
    {
      "cell_type": "code",
      "source": [
        "X = df.drop(['target_variable'], axis=1)  # features\n",
        "y = df['target_variable']  # target variable\n",
        "\n",
        "X_train, X_test, y_train, y_test = train_test_split(X, y, test_size=0.2, random_state=42)"
      ],
      "metadata": {
        "id": "6vYiBYIZZnin"
      },
      "execution_count": null,
      "outputs": []
    },
    {
      "cell_type": "code",
      "source": [
        "rf_model = RandomForestRegressor(n_estimators=100, random_state=42)\n",
        "rf_model.fit(X_train, y_train)"
      ],
      "metadata": {
        "id": "Oe5YBjoxZud3"
      },
      "execution_count": null,
      "outputs": []
    },
    {
      "cell_type": "code",
      "source": [
        "y_pred = rf_model.predict(X_test)\n",
        "mse = mean_squared_error(y_test, y_pred)\n",
        "print(f'MSE: {mse:.2f}')"
      ],
      "metadata": {
        "id": "D0r-_sv7Z-g4"
      },
      "execution_count": null,
      "outputs": []
    },
    {
      "cell_type": "code",
      "source": [
        "# Plotagem de resultados\n",
        "plt.scatter(y_test, y_pred)\n",
        "plt.xlabel('Valor Real')\n",
        "plt.ylabel('Valor Previsto')\n",
        "plt.title('Análise de Resultados')\n",
        "plt.show()"
      ],
      "metadata": {
        "id": "BBf0xYpOaADY"
      },
      "execution_count": null,
      "outputs": []
    },
    {
      "cell_type": "code",
      "source": [
        "# Categorização das praias em função da qualidade da água\n",
        "categories = ['Muito Limpa', 'Limpa', 'Moderadamente Poluída', 'Muito Poluída']\n",
        "df['category'] = pd.cut(df['target_variable'], bins=[0, 20, 40, 60, 100], labels=categories)\n",
        "\n",
        "# Plotagem das categorias\n",
        "plt.figure(figsize=(10, 6))\n",
        "sns.countplot(x='category', data=df)\n",
        "plt.title('Categorização das Praias')\n",
        "plt.xlabel('Categoria')\n",
        "plt.ylabel('Contagem')\n",
        "plt.show()"
      ],
      "metadata": {
        "id": "na6Qd_qjwZni"
      },
      "execution_count": null,
      "outputs": []
    },
    {
      "cell_type": "code",
      "source": [
        "# Monitoramento da poluição nas praias\n",
        "pollution_levels = df.groupby('beach_name')['target_variable'].mean().reset_index()\n",
        "pollution_levels.sort_values('target_variable', ascending=False, inplace=True)\n",
        "\n",
        "# Plotagem dos níveis de poluição\n",
        "plt.figure(figsize=(10, 6))\n",
        "sns.barplot(x='beach_name', y='target_variable', data=pollution_levels)\n",
        "plt.title('Monitoramento da Poluição')\n",
        "plt.xlabel('Praia')\n",
        "plt.ylabel('Nível de Poluição')\n",
        "plt.show()"
      ],
      "metadata": {
        "id": "q4HQwiDwwcKR"
      },
      "execution_count": null,
      "outputs": []
    }
  ]
}